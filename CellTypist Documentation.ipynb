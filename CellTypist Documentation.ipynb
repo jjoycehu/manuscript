{
 "cells": [
  {
   "cell_type": "markdown",
   "id": "34785b44",
   "metadata": {},
   "source": [
    "# CellTypist Tutorial"
   ]
  },
  {
   "cell_type": "markdown",
   "id": "80e7b25f",
   "metadata": {},
   "source": [
    "## Set Up"
   ]
  },
  {
   "cell_type": "code",
   "execution_count": null,
   "id": "e2b7aa5d",
   "metadata": {},
   "outputs": [],
   "source": [
    "# import\n",
    "import scanpy as sc\n",
    "import pandas as pd\n",
    "import celltypist\n",
    "from celltypist import models"
   ]
  },
  {
   "cell_type": "code",
   "execution_count": null,
   "id": "342f3b9a",
   "metadata": {},
   "outputs": [],
   "source": [
    "# download model \n",
    "models.download_models(model = 'Human_Lung_Atlas.pkl')\n",
    "model = models.Model.load(model = 'Human_Lung_Atlas.pkl')\n",
    "model"
   ]
  },
  {
   "cell_type": "code",
   "execution_count": null,
   "id": "4c380aae",
   "metadata": {},
   "outputs": [],
   "source": [
    "# read in data\n",
    "adata_query = sc.read_h5ad('../../data/gtex/lung.h5ad')\n",
    "adata_query"
   ]
  },
  {
   "cell_type": "markdown",
   "id": "d85221e0",
   "metadata": {},
   "source": [
    "## Pre-processing"
   ]
  },
  {
   "cell_type": "code",
   "execution_count": null,
   "id": "b9948a45",
   "metadata": {},
   "outputs": [],
   "source": [
    "#normalize\n",
    "sc.pp.normalize_total(adata_query, target_sum = 1e4)\n",
    "sc.pp.log1p(adata_query)\n",
    "adata_query"
   ]
  },
  {
   "cell_type": "markdown",
   "id": "d0f15783",
   "metadata": {},
   "source": [
    "> if you encounter: `KeyError: 'No \"neighbors\" in .uns'`, this is because the neighbors graph is queried differently in the source code than it is stored here\n",
    "\n",
    "Just run: `adata_query.obsp.pop('connectivities', None)` before running `celltypist.annotate(adata_query, model = model, majority_voting = True)` to force it to create a new neighbors graph that is stored correctly"
   ]
  },
  {
   "cell_type": "code",
   "execution_count": null,
   "id": "f911f47c",
   "metadata": {},
   "outputs": [],
   "source": [
    "# to address issue with not querying neighbors right:\n",
    "adata_query.obsp.pop('connectivities', None)"
   ]
  },
  {
   "cell_type": "markdown",
   "id": "2116b0b3",
   "metadata": {},
   "source": [
    ">if you encounter: `\"🛑 No features overlap with the model. Please provide gene symbols\"` after running `celltypist.annotate(f1, model = model, majority_voting = True)`:"
   ]
  },
  {
   "cell_type": "code",
   "execution_count": null,
   "id": "9dae3532",
   "metadata": {},
   "outputs": [],
   "source": [
    "# verify that adata_query.var_names contains the gene names, or else reassign \n",
    "gene_name_col = 'gene_name'\n",
    "adata_query.var.rename(columns={gene_name_col: 'var_names'}, inplace=True)"
   ]
  },
  {
   "cell_type": "markdown",
   "id": "4c1e9bce",
   "metadata": {},
   "source": [
    "## Annotation\n",
    "\n",
    "**There are two prediction parameters: individual prediction and majority voting**\n",
    "#### `majority_voting = True`: \n",
    "from the CellTypist website: \"Prediction results are refined by a majority voting approach based on the idea that transcriptionally similar cells are more likely to form a (sub)cluster regardless of their individual prediction outcomes. The query data will be over-clustered (by Leiden clustering with a canonical Scanpy pipeline) and each resulting subcluster is assigned the identity supported by the dominant cell type predicted. Through this, distinguishable small subclusters will be assigned distinct labels, and homogenous subclusters will be assigned the same labels and iteratively converge to a bigger cluster.\""
   ]
  },
  {
   "cell_type": "code",
   "execution_count": null,
   "id": "546f09f7",
   "metadata": {},
   "outputs": [],
   "source": [
    "predictions = celltypist.annotate(adata_query, model = model, majority_voting = True)\n",
    "predictions.predicted_labels"
   ]
  },
  {
   "cell_type": "markdown",
   "id": "72173a81",
   "metadata": {},
   "source": [
    "### Saving Results"
   ]
  },
  {
   "cell_type": "code",
   "execution_count": null,
   "id": "906d00f3",
   "metadata": {},
   "outputs": [],
   "source": [
    "predictions_adata = predictions.to_adata()\n",
    "predictions_adata"
   ]
  },
  {
   "cell_type": "code",
   "execution_count": null,
   "id": "0162abf5",
   "metadata": {},
   "outputs": [],
   "source": [
    "predictions_adata.obs.to_csv('results.csv')"
   ]
  }
 ],
 "metadata": {
  "kernelspec": {
   "display_name": "Python 3 (ipykernel)",
   "language": "python",
   "name": "python3"
  },
  "language_info": {
   "codemirror_mode": {
    "name": "ipython",
    "version": 3
   },
   "file_extension": ".py",
   "mimetype": "text/x-python",
   "name": "python",
   "nbconvert_exporter": "python",
   "pygments_lexer": "ipython3",
   "version": "3.10.12"
  }
 },
 "nbformat": 4,
 "nbformat_minor": 5
}
